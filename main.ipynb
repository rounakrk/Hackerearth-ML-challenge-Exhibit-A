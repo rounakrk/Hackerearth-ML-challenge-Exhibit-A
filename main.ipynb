{
 "cells": [
  {
   "cell_type": "code",
   "execution_count": 1,
   "metadata": {},
   "outputs": [
    {
     "data": {
      "text/html": [
       "        <script type=\"text/javascript\">\n",
       "        window.PlotlyConfig = {MathJaxConfig: 'local'};\n",
       "        if (window.MathJax) {MathJax.Hub.Config({SVG: {font: \"STIX-Web\"}});}\n",
       "        if (typeof require !== 'undefined') {\n",
       "        require.undef(\"plotly\");\n",
       "        requirejs.config({\n",
       "            paths: {\n",
       "                'plotly': ['https://cdn.plot.ly/plotly-latest.min']\n",
       "            }\n",
       "        });\n",
       "        require(['plotly'], function(Plotly) {\n",
       "            window._Plotly = Plotly;\n",
       "        });\n",
       "        }\n",
       "        </script>\n",
       "        "
      ]
     },
     "metadata": {},
     "output_type": "display_data"
    },
    {
     "data": {
      "text/html": [
       "        <script type=\"text/javascript\">\n",
       "        window.PlotlyConfig = {MathJaxConfig: 'local'};\n",
       "        if (window.MathJax) {MathJax.Hub.Config({SVG: {font: \"STIX-Web\"}});}\n",
       "        if (typeof require !== 'undefined') {\n",
       "        require.undef(\"plotly\");\n",
       "        requirejs.config({\n",
       "            paths: {\n",
       "                'plotly': ['https://cdn.plot.ly/plotly-latest.min']\n",
       "            }\n",
       "        });\n",
       "        require(['plotly'], function(Plotly) {\n",
       "            window._Plotly = Plotly;\n",
       "        });\n",
       "        }\n",
       "        </script>\n",
       "        "
      ]
     },
     "metadata": {},
     "output_type": "display_data"
    }
   ],
   "source": [
    "import numpy as np\n",
    "import pandas as pd\n",
    "import matplotlib.pyplot as plt\n",
    "%matplotlib inline\n",
    "import seaborn as sns\n",
    "\n",
    "import warnings\n",
    "warnings.filterwarnings('ignore')\n",
    "\n",
    "import plotly\n",
    "import plotly.express as px\n",
    "import plotly.offline as pyo\n",
    "import cufflinks as cf\n",
    "from plotly.offline import init_notebook_mode,plot,iplot\n",
    "\n",
    "pyo.init_notebook_mode(connected=True)\n",
    "cf.go_offline()"
   ]
  },
  {
   "cell_type": "code",
   "execution_count": 2,
   "metadata": {},
   "outputs": [],
   "source": [
    "train = pd.read_csv(r'dataset\\train.csv')\n",
    "test = pd.read_csv(r'dataset\\test.csv')"
   ]
  },
  {
   "cell_type": "code",
   "execution_count": 3,
   "metadata": {},
   "outputs": [
    {
     "name": "stdout",
     "output_type": "stream",
     "text": [
      "<class 'pandas.core.frame.DataFrame'>\n",
      "RangeIndex: 6500 entries, 0 to 6499\n",
      "Data columns (total 20 columns):\n",
      " #   Column                 Non-Null Count  Dtype  \n",
      "---  ------                 --------------  -----  \n",
      " 0   Customer Id            6500 non-null   object \n",
      " 1   Artist Name            6500 non-null   object \n",
      " 2   Artist Reputation      5750 non-null   float64\n",
      " 3   Height                 6125 non-null   float64\n",
      " 4   Width                  5916 non-null   float64\n",
      " 5   Weight                 5913 non-null   float64\n",
      " 6   Material               5736 non-null   object \n",
      " 7   Price Of Sculpture     6500 non-null   float64\n",
      " 8   Base Shipping Price    6500 non-null   float64\n",
      " 9   International          6500 non-null   object \n",
      " 10  Express Shipment       6500 non-null   object \n",
      " 11  Installation Included  6500 non-null   object \n",
      " 12  Transport              5108 non-null   object \n",
      " 13  Fragile                6500 non-null   object \n",
      " 14  Customer Information   6500 non-null   object \n",
      " 15  Remote Location        5729 non-null   object \n",
      " 16  Scheduled Date         6500 non-null   object \n",
      " 17  Delivery Date          6500 non-null   object \n",
      " 18  Customer Location      6500 non-null   object \n",
      " 19  Cost                   6500 non-null   float64\n",
      "dtypes: float64(7), object(13)\n",
      "memory usage: 1015.8+ KB\n",
      "None\n",
      "----------------------------------------------------------------------------------------------------\n",
      "       Artist Reputation       Height        Width        Weight  \\\n",
      "count        5750.000000  6125.000000  5916.000000  5.913000e+03   \n",
      "mean            0.461850    21.766204     9.617647  4.006948e+05   \n",
      "std             0.265781    11.968192     5.417000  2.678081e+06   \n",
      "min             0.000000     3.000000     2.000000  3.000000e+00   \n",
      "25%             0.240000    12.000000     6.000000  5.030000e+02   \n",
      "50%             0.450000    20.000000     8.000000  3.102000e+03   \n",
      "75%             0.680000    30.000000    12.000000  3.645600e+04   \n",
      "max             1.000000    73.000000    50.000000  1.179279e+08   \n",
      "\n",
      "       Price Of Sculpture  Base Shipping Price          Cost  \n",
      "count          6500.00000          6500.000000  6.500000e+03  \n",
      "mean           1192.42009            37.407174  1.713920e+04  \n",
      "std            8819.61675            26.873519  2.406579e+05  \n",
      "min               3.00000            10.000000 -8.801727e+05  \n",
      "25%               5.23000            16.700000  1.884400e+02  \n",
      "50%               8.02500            23.505000  3.820650e+02  \n",
      "75%              89.47000            57.905000  1.156115e+03  \n",
      "max          382385.67000            99.980000  1.114343e+07  \n",
      "----------------------------------------------------------------------------------------------------\n",
      "The shape of the data is :  (6500, 20)\n",
      "----------------------------------------------------------------------------------------------------\n"
     ]
    },
    {
     "data": {
      "text/html": [
       "<div>\n",
       "<style scoped>\n",
       "    .dataframe tbody tr th:only-of-type {\n",
       "        vertical-align: middle;\n",
       "    }\n",
       "\n",
       "    .dataframe tbody tr th {\n",
       "        vertical-align: top;\n",
       "    }\n",
       "\n",
       "    .dataframe thead th {\n",
       "        text-align: right;\n",
       "    }\n",
       "</style>\n",
       "<table border=\"1\" class=\"dataframe\">\n",
       "  <thead>\n",
       "    <tr style=\"text-align: right;\">\n",
       "      <th></th>\n",
       "      <th>Customer Id</th>\n",
       "      <th>Artist Name</th>\n",
       "      <th>Artist Reputation</th>\n",
       "      <th>Height</th>\n",
       "      <th>Width</th>\n",
       "      <th>Weight</th>\n",
       "      <th>Material</th>\n",
       "      <th>Price Of Sculpture</th>\n",
       "      <th>Base Shipping Price</th>\n",
       "      <th>International</th>\n",
       "      <th>Express Shipment</th>\n",
       "      <th>Installation Included</th>\n",
       "      <th>Transport</th>\n",
       "      <th>Fragile</th>\n",
       "      <th>Customer Information</th>\n",
       "      <th>Remote Location</th>\n",
       "      <th>Scheduled Date</th>\n",
       "      <th>Delivery Date</th>\n",
       "      <th>Customer Location</th>\n",
       "      <th>Cost</th>\n",
       "    </tr>\n",
       "  </thead>\n",
       "  <tbody>\n",
       "    <tr>\n",
       "      <th>0</th>\n",
       "      <td>fffe3900350033003300</td>\n",
       "      <td>Billy Jenkins</td>\n",
       "      <td>0.26</td>\n",
       "      <td>17.0</td>\n",
       "      <td>6.0</td>\n",
       "      <td>4128.0</td>\n",
       "      <td>Brass</td>\n",
       "      <td>13.91</td>\n",
       "      <td>16.27</td>\n",
       "      <td>Yes</td>\n",
       "      <td>Yes</td>\n",
       "      <td>No</td>\n",
       "      <td>Airways</td>\n",
       "      <td>No</td>\n",
       "      <td>Working Class</td>\n",
       "      <td>No</td>\n",
       "      <td>06/07/15</td>\n",
       "      <td>06/03/15</td>\n",
       "      <td>New Michelle, OH 50777</td>\n",
       "      <td>-283.29</td>\n",
       "    </tr>\n",
       "    <tr>\n",
       "      <th>1</th>\n",
       "      <td>fffe3800330031003900</td>\n",
       "      <td>Jean Bryant</td>\n",
       "      <td>0.28</td>\n",
       "      <td>3.0</td>\n",
       "      <td>3.0</td>\n",
       "      <td>61.0</td>\n",
       "      <td>Brass</td>\n",
       "      <td>6.83</td>\n",
       "      <td>15.00</td>\n",
       "      <td>No</td>\n",
       "      <td>No</td>\n",
       "      <td>No</td>\n",
       "      <td>Roadways</td>\n",
       "      <td>No</td>\n",
       "      <td>Working Class</td>\n",
       "      <td>No</td>\n",
       "      <td>03/06/17</td>\n",
       "      <td>03/05/17</td>\n",
       "      <td>New Michaelport, WY 12072</td>\n",
       "      <td>-159.96</td>\n",
       "    </tr>\n",
       "    <tr>\n",
       "      <th>2</th>\n",
       "      <td>fffe3600370035003100</td>\n",
       "      <td>Laura Miller</td>\n",
       "      <td>0.07</td>\n",
       "      <td>8.0</td>\n",
       "      <td>5.0</td>\n",
       "      <td>237.0</td>\n",
       "      <td>Clay</td>\n",
       "      <td>4.96</td>\n",
       "      <td>21.18</td>\n",
       "      <td>No</td>\n",
       "      <td>No</td>\n",
       "      <td>No</td>\n",
       "      <td>Roadways</td>\n",
       "      <td>Yes</td>\n",
       "      <td>Working Class</td>\n",
       "      <td>Yes</td>\n",
       "      <td>03/09/15</td>\n",
       "      <td>03/08/15</td>\n",
       "      <td>Bowmanshire, WA 19241</td>\n",
       "      <td>-154.29</td>\n",
       "    </tr>\n",
       "    <tr>\n",
       "      <th>3</th>\n",
       "      <td>fffe350031003300</td>\n",
       "      <td>Robert Chaires</td>\n",
       "      <td>0.12</td>\n",
       "      <td>9.0</td>\n",
       "      <td>NaN</td>\n",
       "      <td>NaN</td>\n",
       "      <td>Aluminium</td>\n",
       "      <td>5.81</td>\n",
       "      <td>16.31</td>\n",
       "      <td>No</td>\n",
       "      <td>No</td>\n",
       "      <td>No</td>\n",
       "      <td>NaN</td>\n",
       "      <td>No</td>\n",
       "      <td>Wealthy</td>\n",
       "      <td>Yes</td>\n",
       "      <td>05/24/15</td>\n",
       "      <td>05/20/15</td>\n",
       "      <td>East Robyn, KY 86375</td>\n",
       "      <td>-161.16</td>\n",
       "    </tr>\n",
       "    <tr>\n",
       "      <th>4</th>\n",
       "      <td>fffe3900320038003400</td>\n",
       "      <td>Rosalyn Krol</td>\n",
       "      <td>0.15</td>\n",
       "      <td>17.0</td>\n",
       "      <td>6.0</td>\n",
       "      <td>324.0</td>\n",
       "      <td>Aluminium</td>\n",
       "      <td>3.18</td>\n",
       "      <td>11.94</td>\n",
       "      <td>Yes</td>\n",
       "      <td>Yes</td>\n",
       "      <td>Yes</td>\n",
       "      <td>Airways</td>\n",
       "      <td>No</td>\n",
       "      <td>Working Class</td>\n",
       "      <td>No</td>\n",
       "      <td>12/18/16</td>\n",
       "      <td>12/14/16</td>\n",
       "      <td>Aprilside, PA 52793</td>\n",
       "      <td>-159.23</td>\n",
       "    </tr>\n",
       "  </tbody>\n",
       "</table>\n",
       "</div>"
      ],
      "text/plain": [
       "            Customer Id     Artist Name  Artist Reputation  Height  Width  \\\n",
       "0  fffe3900350033003300   Billy Jenkins               0.26    17.0    6.0   \n",
       "1  fffe3800330031003900     Jean Bryant               0.28     3.0    3.0   \n",
       "2  fffe3600370035003100    Laura Miller               0.07     8.0    5.0   \n",
       "3      fffe350031003300  Robert Chaires               0.12     9.0    NaN   \n",
       "4  fffe3900320038003400    Rosalyn Krol               0.15    17.0    6.0   \n",
       "\n",
       "   Weight   Material  Price Of Sculpture  Base Shipping Price International  \\\n",
       "0  4128.0      Brass               13.91                16.27           Yes   \n",
       "1    61.0      Brass                6.83                15.00            No   \n",
       "2   237.0       Clay                4.96                21.18            No   \n",
       "3     NaN  Aluminium                5.81                16.31            No   \n",
       "4   324.0  Aluminium                3.18                11.94           Yes   \n",
       "\n",
       "  Express Shipment Installation Included Transport Fragile  \\\n",
       "0              Yes                    No   Airways      No   \n",
       "1               No                    No  Roadways      No   \n",
       "2               No                    No  Roadways     Yes   \n",
       "3               No                    No       NaN      No   \n",
       "4              Yes                   Yes   Airways      No   \n",
       "\n",
       "  Customer Information Remote Location Scheduled Date Delivery Date  \\\n",
       "0        Working Class              No       06/07/15      06/03/15   \n",
       "1        Working Class              No       03/06/17      03/05/17   \n",
       "2        Working Class             Yes       03/09/15      03/08/15   \n",
       "3              Wealthy             Yes       05/24/15      05/20/15   \n",
       "4        Working Class              No       12/18/16      12/14/16   \n",
       "\n",
       "           Customer Location    Cost  \n",
       "0     New Michelle, OH 50777 -283.29  \n",
       "1  New Michaelport, WY 12072 -159.96  \n",
       "2      Bowmanshire, WA 19241 -154.29  \n",
       "3       East Robyn, KY 86375 -161.16  \n",
       "4        Aprilside, PA 52793 -159.23  "
      ]
     },
     "execution_count": 3,
     "metadata": {},
     "output_type": "execute_result"
    }
   ],
   "source": [
    "print(train.info())\n",
    "print('-'*100)\n",
    "print(train.describe())\n",
    "print('-'*100)\n",
    "print(\"The shape of the data is : \", train.shape)\n",
    "print('-'*100)\n",
    "train.head()"
   ]
  },
  {
   "cell_type": "code",
   "execution_count": 4,
   "metadata": {},
   "outputs": [
    {
     "name": "stdout",
     "output_type": "stream",
     "text": [
      "<class 'pandas.core.frame.DataFrame'>\n",
      "RangeIndex: 3500 entries, 0 to 3499\n",
      "Data columns (total 19 columns):\n",
      " #   Column                 Non-Null Count  Dtype  \n",
      "---  ------                 --------------  -----  \n",
      " 0   Customer Id            3500 non-null   object \n",
      " 1   Artist Name            3500 non-null   object \n",
      " 2   Artist Reputation      3278 non-null   float64\n",
      " 3   Height                 3381 non-null   float64\n",
      " 4   Width                  3359 non-null   float64\n",
      " 5   Weight                 3351 non-null   float64\n",
      " 6   Material               3500 non-null   object \n",
      " 7   Price Of Sculpture     3500 non-null   float64\n",
      " 8   Base Shipping Price    3500 non-null   float64\n",
      " 9   International          3500 non-null   object \n",
      " 10  Express Shipment       3500 non-null   object \n",
      " 11  Installation Included  3500 non-null   object \n",
      " 12  Transport              3268 non-null   object \n",
      " 13  Fragile                3500 non-null   object \n",
      " 14  Customer Information   3500 non-null   object \n",
      " 15  Remote Location        3500 non-null   object \n",
      " 16  Scheduled Date         3500 non-null   object \n",
      " 17  Delivery Date          3500 non-null   object \n",
      " 18  Customer Location      3500 non-null   object \n",
      "dtypes: float64(6), object(13)\n",
      "memory usage: 519.7+ KB\n",
      "None\n",
      "----------------------------------------------------------------------------------------------------\n",
      "       Artist Reputation       Height        Width        Weight  \\\n",
      "count        3278.000000  3381.000000  3359.000000  3.351000e+03   \n",
      "mean            0.463279    21.275067     9.371837  3.749665e+05   \n",
      "std             0.272287    11.689805     5.231695  2.517256e+06   \n",
      "min             0.000000     3.000000     2.000000  4.000000e+00   \n",
      "25%             0.230000    12.000000     6.000000  4.895000e+02   \n",
      "50%             0.450000    20.000000     8.000000  2.929000e+03   \n",
      "75%             0.680000    29.000000    12.000000  3.340650e+04   \n",
      "max             1.000000    65.000000    48.000000  6.459500e+07   \n",
      "\n",
      "       Price Of Sculpture  Base Shipping Price  \n",
      "count         3500.000000          3500.000000  \n",
      "mean          1059.608646            36.352909  \n",
      "std           7409.348267            26.299318  \n",
      "min              3.000000            10.000000  \n",
      "25%              5.160000            16.870000  \n",
      "50%              7.120000            23.055000  \n",
      "75%             81.195000            55.742500  \n",
      "max         227254.240000            99.980000  \n",
      "----------------------------------------------------------------------------------------------------\n",
      "The shape of the data is :  (3500, 19)\n",
      "----------------------------------------------------------------------------------------------------\n"
     ]
    },
    {
     "data": {
      "text/html": [
       "<div>\n",
       "<style scoped>\n",
       "    .dataframe tbody tr th:only-of-type {\n",
       "        vertical-align: middle;\n",
       "    }\n",
       "\n",
       "    .dataframe tbody tr th {\n",
       "        vertical-align: top;\n",
       "    }\n",
       "\n",
       "    .dataframe thead th {\n",
       "        text-align: right;\n",
       "    }\n",
       "</style>\n",
       "<table border=\"1\" class=\"dataframe\">\n",
       "  <thead>\n",
       "    <tr style=\"text-align: right;\">\n",
       "      <th></th>\n",
       "      <th>Customer Id</th>\n",
       "      <th>Artist Name</th>\n",
       "      <th>Artist Reputation</th>\n",
       "      <th>Height</th>\n",
       "      <th>Width</th>\n",
       "      <th>Weight</th>\n",
       "      <th>Material</th>\n",
       "      <th>Price Of Sculpture</th>\n",
       "      <th>Base Shipping Price</th>\n",
       "      <th>International</th>\n",
       "      <th>Express Shipment</th>\n",
       "      <th>Installation Included</th>\n",
       "      <th>Transport</th>\n",
       "      <th>Fragile</th>\n",
       "      <th>Customer Information</th>\n",
       "      <th>Remote Location</th>\n",
       "      <th>Scheduled Date</th>\n",
       "      <th>Delivery Date</th>\n",
       "      <th>Customer Location</th>\n",
       "    </tr>\n",
       "  </thead>\n",
       "  <tbody>\n",
       "    <tr>\n",
       "      <th>0</th>\n",
       "      <td>fffe3400310033003300</td>\n",
       "      <td>James Miller</td>\n",
       "      <td>0.35</td>\n",
       "      <td>53.0</td>\n",
       "      <td>18.0</td>\n",
       "      <td>871.0</td>\n",
       "      <td>Wood</td>\n",
       "      <td>5.98</td>\n",
       "      <td>19.11</td>\n",
       "      <td>Yes</td>\n",
       "      <td>Yes</td>\n",
       "      <td>No</td>\n",
       "      <td>Airways</td>\n",
       "      <td>No</td>\n",
       "      <td>Working Class</td>\n",
       "      <td>No</td>\n",
       "      <td>07/03/17</td>\n",
       "      <td>07/06/17</td>\n",
       "      <td>Santoshaven, IA 63481</td>\n",
       "    </tr>\n",
       "    <tr>\n",
       "      <th>1</th>\n",
       "      <td>fffe3600350035003400</td>\n",
       "      <td>Karen Vetrano</td>\n",
       "      <td>0.67</td>\n",
       "      <td>7.0</td>\n",
       "      <td>4.0</td>\n",
       "      <td>108.0</td>\n",
       "      <td>Clay</td>\n",
       "      <td>6.92</td>\n",
       "      <td>13.96</td>\n",
       "      <td>No</td>\n",
       "      <td>No</td>\n",
       "      <td>No</td>\n",
       "      <td>Roadways</td>\n",
       "      <td>Yes</td>\n",
       "      <td>Working Class</td>\n",
       "      <td>No</td>\n",
       "      <td>05/02/16</td>\n",
       "      <td>05/02/16</td>\n",
       "      <td>Ericksonton, OH 98253</td>\n",
       "    </tr>\n",
       "    <tr>\n",
       "      <th>2</th>\n",
       "      <td>fffe3700360030003500</td>\n",
       "      <td>Roseanne Gaona</td>\n",
       "      <td>0.61</td>\n",
       "      <td>6.0</td>\n",
       "      <td>5.0</td>\n",
       "      <td>97.0</td>\n",
       "      <td>Aluminium</td>\n",
       "      <td>4.23</td>\n",
       "      <td>13.62</td>\n",
       "      <td>Yes</td>\n",
       "      <td>No</td>\n",
       "      <td>No</td>\n",
       "      <td>Airways</td>\n",
       "      <td>No</td>\n",
       "      <td>Working Class</td>\n",
       "      <td>No</td>\n",
       "      <td>01/04/18</td>\n",
       "      <td>01/06/18</td>\n",
       "      <td>APO AP 83453</td>\n",
       "    </tr>\n",
       "    <tr>\n",
       "      <th>3</th>\n",
       "      <td>fffe350038003600</td>\n",
       "      <td>Todd Almanza</td>\n",
       "      <td>0.14</td>\n",
       "      <td>15.0</td>\n",
       "      <td>8.0</td>\n",
       "      <td>757.0</td>\n",
       "      <td>Clay</td>\n",
       "      <td>6.28</td>\n",
       "      <td>23.79</td>\n",
       "      <td>No</td>\n",
       "      <td>Yes</td>\n",
       "      <td>No</td>\n",
       "      <td>Roadways</td>\n",
       "      <td>Yes</td>\n",
       "      <td>Wealthy</td>\n",
       "      <td>No</td>\n",
       "      <td>09/14/17</td>\n",
       "      <td>09/17/17</td>\n",
       "      <td>Antonioborough, AL 54778</td>\n",
       "    </tr>\n",
       "    <tr>\n",
       "      <th>4</th>\n",
       "      <td>fffe3500390032003500</td>\n",
       "      <td>Francis Rivero</td>\n",
       "      <td>0.63</td>\n",
       "      <td>10.0</td>\n",
       "      <td>4.0</td>\n",
       "      <td>1673.0</td>\n",
       "      <td>Marble</td>\n",
       "      <td>4.39</td>\n",
       "      <td>17.83</td>\n",
       "      <td>No</td>\n",
       "      <td>Yes</td>\n",
       "      <td>Yes</td>\n",
       "      <td>Roadways</td>\n",
       "      <td>No</td>\n",
       "      <td>Working Class</td>\n",
       "      <td>Yes</td>\n",
       "      <td>12/03/17</td>\n",
       "      <td>12/02/17</td>\n",
       "      <td>Lake Frances, LA 03040</td>\n",
       "    </tr>\n",
       "  </tbody>\n",
       "</table>\n",
       "</div>"
      ],
      "text/plain": [
       "            Customer Id     Artist Name  Artist Reputation  Height  Width  \\\n",
       "0  fffe3400310033003300    James Miller               0.35    53.0   18.0   \n",
       "1  fffe3600350035003400   Karen Vetrano               0.67     7.0    4.0   \n",
       "2  fffe3700360030003500  Roseanne Gaona               0.61     6.0    5.0   \n",
       "3      fffe350038003600    Todd Almanza               0.14    15.0    8.0   \n",
       "4  fffe3500390032003500  Francis Rivero               0.63    10.0    4.0   \n",
       "\n",
       "   Weight   Material  Price Of Sculpture  Base Shipping Price International  \\\n",
       "0   871.0       Wood                5.98                19.11           Yes   \n",
       "1   108.0       Clay                6.92                13.96            No   \n",
       "2    97.0  Aluminium                4.23                13.62           Yes   \n",
       "3   757.0       Clay                6.28                23.79            No   \n",
       "4  1673.0     Marble                4.39                17.83            No   \n",
       "\n",
       "  Express Shipment Installation Included Transport Fragile  \\\n",
       "0              Yes                    No   Airways      No   \n",
       "1               No                    No  Roadways     Yes   \n",
       "2               No                    No   Airways      No   \n",
       "3              Yes                    No  Roadways     Yes   \n",
       "4              Yes                   Yes  Roadways      No   \n",
       "\n",
       "  Customer Information Remote Location Scheduled Date Delivery Date  \\\n",
       "0        Working Class              No       07/03/17      07/06/17   \n",
       "1        Working Class              No       05/02/16      05/02/16   \n",
       "2        Working Class              No       01/04/18      01/06/18   \n",
       "3              Wealthy              No       09/14/17      09/17/17   \n",
       "4        Working Class             Yes       12/03/17      12/02/17   \n",
       "\n",
       "          Customer Location  \n",
       "0     Santoshaven, IA 63481  \n",
       "1     Ericksonton, OH 98253  \n",
       "2              APO AP 83453  \n",
       "3  Antonioborough, AL 54778  \n",
       "4    Lake Frances, LA 03040  "
      ]
     },
     "execution_count": 4,
     "metadata": {},
     "output_type": "execute_result"
    }
   ],
   "source": [
    "print(test.info())\n",
    "print('-'*100)\n",
    "print(test.describe())\n",
    "print('-'*100)\n",
    "print(\"The shape of the data is : \", test.shape)\n",
    "print('-'*100)\n",
    "test.head()"
   ]
  },
  {
   "cell_type": "code",
   "execution_count": 5,
   "metadata": {},
   "outputs": [
    {
     "data": {
      "image/png": "[encoded data removed]",
      "text/plain": [
       "<Figure size 1080x1080 with 2 Axes>"
      ]
     },
     "metadata": {
      "needs_background": "light"
     },
     "output_type": "display_data"
    }
   ],
   "source": [
    "f,ax = plt.subplots(figsize=(15, 15))\n",
    "sns.heatmap(train.corr(), annot=True, linewidths=.5, fmt= '.2f',ax=ax)\n",
    "plt.show()"
   ]
  },
  {
   "cell_type": "code",
   "execution_count": 6,
   "metadata": {},
   "outputs": [
    {
     "data": {
      "text/plain": [
       "Brass        847\n",
       "Aluminium    845\n",
       "Bronze       821\n",
       "Marble       819\n",
       "Wood         816\n",
       "Clay         816\n",
       "Stone        772\n",
       "Name: Material, dtype: int64"
      ]
     },
     "execution_count": 6,
     "metadata": {},
     "output_type": "execute_result"
    }
   ],
   "source": [
    "train['Material'].value_counts()"
   ]
  },
  {
   "cell_type": "code",
   "execution_count": 7,
   "metadata": {},
   "outputs": [
    {
     "data": {
      "text/plain": [
       "Roadways     2064\n",
       "Airways      1817\n",
       "Waterways    1227\n",
       "Name: Transport, dtype: int64"
      ]
     },
     "execution_count": 7,
     "metadata": {},
     "output_type": "execute_result"
    }
   ],
   "source": [
    "train['Transport'].value_counts()"
   ]
  },
  {
   "cell_type": "code",
   "execution_count": 8,
   "metadata": {},
   "outputs": [
    {
     "data": {
      "text/plain": [
       "Working Class    4803\n",
       "Wealthy          1697\n",
       "Name: Customer Information, dtype: int64"
      ]
     },
     "execution_count": 8,
     "metadata": {},
     "output_type": "execute_result"
    }
   ],
   "source": [
    "train['Customer Information'].value_counts()"
   ]
  },
  {
   "cell_type": "code",
   "execution_count": 9,
   "metadata": {},
   "outputs": [],
   "source": [
    "df_train = train.copy()\n",
    "df_test = test.copy()"
   ]
  },
  {
   "cell_type": "code",
   "execution_count": 10,
   "metadata": {},
   "outputs": [
    {
     "data": {
      "text/plain": [
       "Index(['Customer Id', 'Artist Name', 'Artist Reputation', 'Height', 'Width',\n",
       "       'Weight', 'Material', 'Price Of Sculpture', 'Base Shipping Price',\n",
       "       'International', 'Express Shipment', 'Installation Included',\n",
       "       'Transport', 'Fragile', 'Customer Information', 'Remote Location',\n",
       "       'Scheduled Date', 'Delivery Date', 'Customer Location', 'Cost'],\n",
       "      dtype='object')"
      ]
     },
     "execution_count": 10,
     "metadata": {},
     "output_type": "execute_result"
    }
   ],
   "source": [
    "train.columns"
   ]
  },
  {
   "cell_type": "code",
   "execution_count": 11,
   "metadata": {},
   "outputs": [],
   "source": [
    "df_train.drop(['Customer Id', 'Artist Name', 'Weight', 'Customer Location'], axis=1, inplace = True)\n",
    "df_test.drop(['Customer Id', 'Artist Name', 'Weight', 'Customer Location'], axis=1, inplace = True)"
   ]
  },
  {
   "cell_type": "code",
   "execution_count": 12,
   "metadata": {},
   "outputs": [],
   "source": [
    "# df_copy = df_train.copy()"
   ]
  },
  {
   "cell_type": "code",
   "execution_count": 13,
   "metadata": {},
   "outputs": [],
   "source": [
    "df_train['Scheduled Date'] = pd.to_datetime(df_train['Scheduled Date'], format=\"%m/%d/%y\")\n",
    "df_train['Delivery Date'] = pd.to_datetime(df_train['Delivery Date'], format=\"%m/%d/%y\")\n",
    "df_train['date_diff'] = (df_train['Scheduled Date'] - df_train['Delivery Date']).dt.days\n",
    "\n",
    "df_test['Scheduled Date'] = pd.to_datetime(df_test['Scheduled Date'], format=\"%m/%d/%y\")\n",
    "df_test['Delivery Date'] = pd.to_datetime(df_test['Delivery Date'], format=\"%m/%d/%y\")\n",
    "df_test['date_diff'] = (df_test['Scheduled Date'] - df_test['Delivery Date']).dt.days"
   ]
  },
  {
   "cell_type": "code",
   "execution_count": 14,
   "metadata": {},
   "outputs": [],
   "source": [
    "df_train.drop(['Scheduled Date', 'Delivery Date'], axis=1, inplace = True)\n",
    "df_test.drop(['Scheduled Date', 'Delivery Date'], axis=1, inplace = True)"
   ]
  },
  {
   "cell_type": "code",
   "execution_count": 15,
   "metadata": {},
   "outputs": [
    {
     "data": {
      "text/plain": [
       "((6500, 15), (3500, 14))"
      ]
     },
     "execution_count": 15,
     "metadata": {},
     "output_type": "execute_result"
    }
   ],
   "source": [
    "df_train.shape, df_test.shape"
   ]
  },
  {
   "cell_type": "code",
   "execution_count": 16,
   "metadata": {},
   "outputs": [
    {
     "data": {
      "text/plain": [
       "Artist Reputation         750\n",
       "Height                    375\n",
       "Width                     584\n",
       "Material                  764\n",
       "Price Of Sculpture          0\n",
       "Base Shipping Price         0\n",
       "International               0\n",
       "Express Shipment            0\n",
       "Installation Included       0\n",
       "Transport                1392\n",
       "Fragile                     0\n",
       "Customer Information        0\n",
       "Remote Location           771\n",
       "Cost                        0\n",
       "date_diff                   0\n",
       "dtype: int64"
      ]
     },
     "execution_count": 16,
     "metadata": {},
     "output_type": "execute_result"
    }
   ],
   "source": [
    "df_train.isnull().sum()"
   ]
  },
  {
   "cell_type": "code",
   "execution_count": 17,
   "metadata": {},
   "outputs": [
    {
     "data": {
      "text/plain": [
       "Artist Reputation        222\n",
       "Height                   119\n",
       "Width                    141\n",
       "Material                   0\n",
       "Price Of Sculpture         0\n",
       "Base Shipping Price        0\n",
       "International              0\n",
       "Express Shipment           0\n",
       "Installation Included      0\n",
       "Transport                232\n",
       "Fragile                    0\n",
       "Customer Information       0\n",
       "Remote Location            0\n",
       "date_diff                  0\n",
       "dtype: int64"
      ]
     },
     "execution_count": 17,
     "metadata": {},
     "output_type": "execute_result"
    }
   ],
   "source": [
    "df_test.isnull().sum()"
   ]
  },
  {
   "cell_type": "code",
   "execution_count": 18,
   "metadata": {},
   "outputs": [],
   "source": [
    "df_train.drop(['Transport'], axis=1, inplace = True)\n",
    "df_test.drop(['Transport'], axis=1, inplace = True)"
   ]
  },
  {
   "cell_type": "code",
   "execution_count": 19,
   "metadata": {},
   "outputs": [],
   "source": [
    "#handling missing values\n",
    "\n",
    "df_train['Artist Reputation'] = df_train['Artist Reputation'].fillna(df_train['Artist Reputation'].mean())\n",
    "df_train['Height'] = df_train['Height'].fillna(df_train['Height'].mean())\n",
    "df_train['Width'] = df_train['Width'].fillna(df_train['Width'].mean())\n",
    "df_train['Material'] = df_train['Material'].fillna(df_train['Material'].mode()[0])\n",
    "df_train['Remote Location'] = df_train['Remote Location'].fillna(df_train['Remote Location'].mode()[0])\n",
    "\n",
    "df_test['Artist Reputation'] = df_test['Artist Reputation'].fillna(df_test['Artist Reputation'].mean())\n",
    "df_test['Height'] = df_test['Height'].fillna(df_test['Height'].mean())\n",
    "df_test['Width'] = df_test['Width'].fillna(df_test['Width'].mean())"
   ]
  },
  {
   "cell_type": "code",
   "execution_count": 20,
   "metadata": {},
   "outputs": [
    {
     "data": {
      "text/plain": [
       "Artist Reputation        0\n",
       "Height                   0\n",
       "Width                    0\n",
       "Material                 0\n",
       "Price Of Sculpture       0\n",
       "Base Shipping Price      0\n",
       "International            0\n",
       "Express Shipment         0\n",
       "Installation Included    0\n",
       "Fragile                  0\n",
       "Customer Information     0\n",
       "Remote Location          0\n",
       "Cost                     0\n",
       "date_diff                0\n",
       "dtype: int64"
      ]
     },
     "execution_count": 20,
     "metadata": {},
     "output_type": "execute_result"
    }
   ],
   "source": [
    "df_train.isnull().sum()"
   ]
  },
  {
   "cell_type": "code",
   "execution_count": 21,
   "metadata": {},
   "outputs": [
    {
     "data": {
      "text/plain": [
       "Artist Reputation        0\n",
       "Height                   0\n",
       "Width                    0\n",
       "Material                 0\n",
       "Price Of Sculpture       0\n",
       "Base Shipping Price      0\n",
       "International            0\n",
       "Express Shipment         0\n",
       "Installation Included    0\n",
       "Fragile                  0\n",
       "Customer Information     0\n",
       "Remote Location          0\n",
       "date_diff                0\n",
       "dtype: int64"
      ]
     },
     "execution_count": 21,
     "metadata": {},
     "output_type": "execute_result"
    }
   ],
   "source": [
    "df_test.isnull().sum()"
   ]
  },
  {
   "cell_type": "code",
   "execution_count": 22,
   "metadata": {},
   "outputs": [],
   "source": [
    "# handling categorical values\n",
    "\n",
    "from sklearn.preprocessing import LabelEncoder\n",
    "le = LabelEncoder()\n",
    "\n",
    "df_train['Material'] = le.fit_transform(df_train['Material'])\n",
    "df_test['Material'] = le.transform(df_test['Material'])\n",
    "\n",
    "df_train['International'] = le.fit_transform(df_train['International'])\n",
    "df_test['International'] = le.transform(df_test['International'])\n",
    "\n",
    "df_train['International'] = le.fit_transform(df_train['International'])\n",
    "df_test['International'] = le.transform(df_test['International'])\n",
    "\n",
    "df_train['Express Shipment'] = le.fit_transform(df_train['Express Shipment'])\n",
    "df_test['Express Shipment'] = le.transform(df_test['Express Shipment'])\n",
    "\n",
    "df_train['Installation Included'] = le.fit_transform(df_train['Installation Included'])\n",
    "df_test['Installation Included'] = le.transform(df_test['Installation Included'])\n",
    "\n",
    "df_train['Fragile'] = le.fit_transform(df_train['Fragile'])\n",
    "df_test['Fragile'] = le.transform(df_test['Fragile'])\n",
    "\n",
    "df_train['Remote Location'] = le.fit_transform(df_train['Remote Location'])\n",
    "df_test['Remote Location'] = le.transform(df_test['Remote Location'])\n",
    "\n",
    "df_train['Customer Information'] = le.fit_transform(df_train['Customer Information'])\n",
    "df_test['Customer Information'] = le.transform(df_test['Customer Information'])"
   ]
  },
  {
   "cell_type": "code",
   "execution_count": 23,
   "metadata": {},
   "outputs": [
    {
     "data": {
      "text/html": [
       "<div>\n",
       "<style scoped>\n",
       "    .dataframe tbody tr th:only-of-type {\n",
       "        vertical-align: middle;\n",
       "    }\n",
       "\n",
       "    .dataframe tbody tr th {\n",
       "        vertical-align: top;\n",
       "    }\n",
       "\n",
       "    .dataframe thead th {\n",
       "        text-align: right;\n",
       "    }\n",
       "</style>\n",
       "<table border=\"1\" class=\"dataframe\">\n",
       "  <thead>\n",
       "    <tr style=\"text-align: right;\">\n",
       "      <th></th>\n",
       "      <th>Artist Reputation</th>\n",
       "      <th>Height</th>\n",
       "      <th>Width</th>\n",
       "      <th>Material</th>\n",
       "      <th>Price Of Sculpture</th>\n",
       "      <th>Base Shipping Price</th>\n",
       "      <th>International</th>\n",
       "      <th>Express Shipment</th>\n",
       "      <th>Installation Included</th>\n",
       "      <th>Fragile</th>\n",
       "      <th>Customer Information</th>\n",
       "      <th>Remote Location</th>\n",
       "      <th>Cost</th>\n",
       "      <th>date_diff</th>\n",
       "    </tr>\n",
       "  </thead>\n",
       "  <tbody>\n",
       "    <tr>\n",
       "      <th>0</th>\n",
       "      <td>0.26</td>\n",
       "      <td>17.0</td>\n",
       "      <td>6.000000</td>\n",
       "      <td>1</td>\n",
       "      <td>13.91</td>\n",
       "      <td>16.27</td>\n",
       "      <td>1</td>\n",
       "      <td>1</td>\n",
       "      <td>0</td>\n",
       "      <td>0</td>\n",
       "      <td>1</td>\n",
       "      <td>0</td>\n",
       "      <td>-283.29</td>\n",
       "      <td>4</td>\n",
       "    </tr>\n",
       "    <tr>\n",
       "      <th>1</th>\n",
       "      <td>0.28</td>\n",
       "      <td>3.0</td>\n",
       "      <td>3.000000</td>\n",
       "      <td>1</td>\n",
       "      <td>6.83</td>\n",
       "      <td>15.00</td>\n",
       "      <td>0</td>\n",
       "      <td>0</td>\n",
       "      <td>0</td>\n",
       "      <td>0</td>\n",
       "      <td>1</td>\n",
       "      <td>0</td>\n",
       "      <td>-159.96</td>\n",
       "      <td>1</td>\n",
       "    </tr>\n",
       "    <tr>\n",
       "      <th>2</th>\n",
       "      <td>0.07</td>\n",
       "      <td>8.0</td>\n",
       "      <td>5.000000</td>\n",
       "      <td>3</td>\n",
       "      <td>4.96</td>\n",
       "      <td>21.18</td>\n",
       "      <td>0</td>\n",
       "      <td>0</td>\n",
       "      <td>0</td>\n",
       "      <td>1</td>\n",
       "      <td>1</td>\n",
       "      <td>1</td>\n",
       "      <td>-154.29</td>\n",
       "      <td>1</td>\n",
       "    </tr>\n",
       "    <tr>\n",
       "      <th>3</th>\n",
       "      <td>0.12</td>\n",
       "      <td>9.0</td>\n",
       "      <td>9.617647</td>\n",
       "      <td>0</td>\n",
       "      <td>5.81</td>\n",
       "      <td>16.31</td>\n",
       "      <td>0</td>\n",
       "      <td>0</td>\n",
       "      <td>0</td>\n",
       "      <td>0</td>\n",
       "      <td>0</td>\n",
       "      <td>1</td>\n",
       "      <td>-161.16</td>\n",
       "      <td>4</td>\n",
       "    </tr>\n",
       "    <tr>\n",
       "      <th>4</th>\n",
       "      <td>0.15</td>\n",
       "      <td>17.0</td>\n",
       "      <td>6.000000</td>\n",
       "      <td>0</td>\n",
       "      <td>3.18</td>\n",
       "      <td>11.94</td>\n",
       "      <td>1</td>\n",
       "      <td>1</td>\n",
       "      <td>1</td>\n",
       "      <td>0</td>\n",
       "      <td>1</td>\n",
       "      <td>0</td>\n",
       "      <td>-159.23</td>\n",
       "      <td>4</td>\n",
       "    </tr>\n",
       "  </tbody>\n",
       "</table>\n",
       "</div>"
      ],
      "text/plain": [
       "   Artist Reputation  Height     Width  Material  Price Of Sculpture  \\\n",
       "0               0.26    17.0  6.000000         1               13.91   \n",
       "1               0.28     3.0  3.000000         1                6.83   \n",
       "2               0.07     8.0  5.000000         3                4.96   \n",
       "3               0.12     9.0  9.617647         0                5.81   \n",
       "4               0.15    17.0  6.000000         0                3.18   \n",
       "\n",
       "   Base Shipping Price  International  Express Shipment  \\\n",
       "0                16.27              1                 1   \n",
       "1                15.00              0                 0   \n",
       "2                21.18              0                 0   \n",
       "3                16.31              0                 0   \n",
       "4                11.94              1                 1   \n",
       "\n",
       "   Installation Included  Fragile  Customer Information  Remote Location  \\\n",
       "0                      0        0                     1                0   \n",
       "1                      0        0                     1                0   \n",
       "2                      0        1                     1                1   \n",
       "3                      0        0                     0                1   \n",
       "4                      1        0                     1                0   \n",
       "\n",
       "     Cost  date_diff  \n",
       "0 -283.29          4  \n",
       "1 -159.96          1  \n",
       "2 -154.29          1  \n",
       "3 -161.16          4  \n",
       "4 -159.23          4  "
      ]
     },
     "execution_count": 23,
     "metadata": {},
     "output_type": "execute_result"
    }
   ],
   "source": [
    "df_train.head()"
   ]
  },
  {
   "cell_type": "code",
   "execution_count": 24,
   "metadata": {},
   "outputs": [
    {
     "data": {
      "text/html": [
       "<div>\n",
       "<style scoped>\n",
       "    .dataframe tbody tr th:only-of-type {\n",
       "        vertical-align: middle;\n",
       "    }\n",
       "\n",
       "    .dataframe tbody tr th {\n",
       "        vertical-align: top;\n",
       "    }\n",
       "\n",
       "    .dataframe thead th {\n",
       "        text-align: right;\n",
       "    }\n",
       "</style>\n",
       "<table border=\"1\" class=\"dataframe\">\n",
       "  <thead>\n",
       "    <tr style=\"text-align: right;\">\n",
       "      <th></th>\n",
       "      <th>Artist Reputation</th>\n",
       "      <th>Height</th>\n",
       "      <th>Width</th>\n",
       "      <th>Material</th>\n",
       "      <th>Price Of Sculpture</th>\n",
       "      <th>Base Shipping Price</th>\n",
       "      <th>International</th>\n",
       "      <th>Express Shipment</th>\n",
       "      <th>Installation Included</th>\n",
       "      <th>Fragile</th>\n",
       "      <th>Customer Information</th>\n",
       "      <th>Remote Location</th>\n",
       "      <th>date_diff</th>\n",
       "    </tr>\n",
       "  </thead>\n",
       "  <tbody>\n",
       "    <tr>\n",
       "      <th>0</th>\n",
       "      <td>0.35</td>\n",
       "      <td>53.0</td>\n",
       "      <td>18.0</td>\n",
       "      <td>6</td>\n",
       "      <td>5.98</td>\n",
       "      <td>19.11</td>\n",
       "      <td>1</td>\n",
       "      <td>1</td>\n",
       "      <td>0</td>\n",
       "      <td>0</td>\n",
       "      <td>1</td>\n",
       "      <td>0</td>\n",
       "      <td>-3</td>\n",
       "    </tr>\n",
       "    <tr>\n",
       "      <th>1</th>\n",
       "      <td>0.67</td>\n",
       "      <td>7.0</td>\n",
       "      <td>4.0</td>\n",
       "      <td>3</td>\n",
       "      <td>6.92</td>\n",
       "      <td>13.96</td>\n",
       "      <td>0</td>\n",
       "      <td>0</td>\n",
       "      <td>0</td>\n",
       "      <td>1</td>\n",
       "      <td>1</td>\n",
       "      <td>0</td>\n",
       "      <td>0</td>\n",
       "    </tr>\n",
       "    <tr>\n",
       "      <th>2</th>\n",
       "      <td>0.61</td>\n",
       "      <td>6.0</td>\n",
       "      <td>5.0</td>\n",
       "      <td>0</td>\n",
       "      <td>4.23</td>\n",
       "      <td>13.62</td>\n",
       "      <td>1</td>\n",
       "      <td>0</td>\n",
       "      <td>0</td>\n",
       "      <td>0</td>\n",
       "      <td>1</td>\n",
       "      <td>0</td>\n",
       "      <td>-2</td>\n",
       "    </tr>\n",
       "    <tr>\n",
       "      <th>3</th>\n",
       "      <td>0.14</td>\n",
       "      <td>15.0</td>\n",
       "      <td>8.0</td>\n",
       "      <td>3</td>\n",
       "      <td>6.28</td>\n",
       "      <td>23.79</td>\n",
       "      <td>0</td>\n",
       "      <td>1</td>\n",
       "      <td>0</td>\n",
       "      <td>1</td>\n",
       "      <td>0</td>\n",
       "      <td>0</td>\n",
       "      <td>-3</td>\n",
       "    </tr>\n",
       "    <tr>\n",
       "      <th>4</th>\n",
       "      <td>0.63</td>\n",
       "      <td>10.0</td>\n",
       "      <td>4.0</td>\n",
       "      <td>4</td>\n",
       "      <td>4.39</td>\n",
       "      <td>17.83</td>\n",
       "      <td>0</td>\n",
       "      <td>1</td>\n",
       "      <td>1</td>\n",
       "      <td>0</td>\n",
       "      <td>1</td>\n",
       "      <td>1</td>\n",
       "      <td>1</td>\n",
       "    </tr>\n",
       "  </tbody>\n",
       "</table>\n",
       "</div>"
      ],
      "text/plain": [
       "   Artist Reputation  Height  Width  Material  Price Of Sculpture  \\\n",
       "0               0.35    53.0   18.0         6                5.98   \n",
       "1               0.67     7.0    4.0         3                6.92   \n",
       "2               0.61     6.0    5.0         0                4.23   \n",
       "3               0.14    15.0    8.0         3                6.28   \n",
       "4               0.63    10.0    4.0         4                4.39   \n",
       "\n",
       "   Base Shipping Price  International  Express Shipment  \\\n",
       "0                19.11              1                 1   \n",
       "1                13.96              0                 0   \n",
       "2                13.62              1                 0   \n",
       "3                23.79              0                 1   \n",
       "4                17.83              0                 1   \n",
       "\n",
       "   Installation Included  Fragile  Customer Information  Remote Location  \\\n",
       "0                      0        0                     1                0   \n",
       "1                      0        1                     1                0   \n",
       "2                      0        0                     1                0   \n",
       "3                      0        1                     0                0   \n",
       "4                      1        0                     1                1   \n",
       "\n",
       "   date_diff  \n",
       "0         -3  \n",
       "1          0  \n",
       "2         -2  \n",
       "3         -3  \n",
       "4          1  "
      ]
     },
     "execution_count": 24,
     "metadata": {},
     "output_type": "execute_result"
    }
   ],
   "source": [
    "df_test.head()"
   ]
  },
  {
   "cell_type": "code",
   "execution_count": 78,
   "metadata": {},
   "outputs": [],
   "source": [
    "lower_limit = df_train['Price Of Sculpture'].mean() - 3*df_train['Price Of Sculpture'].std()\n",
    "upper_limit = df_train['Price Of Sculpture'].mean() + 3*df_train['Price Of Sculpture'].std()\n",
    "\n",
    "df_train = df_train[(df_train['Price Of Sculpture'] > lower_limit) & (df_train['Price Of Sculpture'] < upper_limit)]"
   ]
  },
  {
   "cell_type": "code",
   "execution_count": 79,
   "metadata": {},
   "outputs": [
    {
     "data": {
      "text/plain": [
       "(6308, 14)"
      ]
     },
     "execution_count": 79,
     "metadata": {},
     "output_type": "execute_result"
    }
   ],
   "source": [
    "df_train.shape"
   ]
  },
  {
   "cell_type": "code",
   "execution_count": 125,
   "metadata": {},
   "outputs": [],
   "source": [
    "numerical_columns = ['Artist Reputation', 'Height', 'Width',\n",
    "                    'Price Of Sculpture', 'Base Shipping Price','date_diff',\n",
    "                    ]\n",
    "categorical_columns = ['Material','International','Express Shipment', 'Installation Included', 'Fragile',\n",
    "                   'Customer Information', 'Remote Location',]\n",
    "\n",
    "from sklearn.preprocessing import StandardScaler\n",
    "sc = StandardScaler()\n",
    "# print(df_train.shape)\n",
    "df_train_numerical = df_train[numerical_columns]\n",
    "# print(df_train_numerical.shape)\n",
    "df_test_numerical = df_test[numerical_columns]\n",
    "\n",
    "df_train_categorical = df_train[categorical_columns]\n",
    "# print(df_train_categorical.shape)\n",
    "df_test_categorical = df_test[categorical_columns]\n",
    "\n",
    "df_train_numerical_scaled = sc.fit_transform(df_train_numerical)\n",
    "df_test_numerical_scaled = sc.transform(df_test_numerical)\n",
    "\n",
    "# df_train_after_concat = pd.concat([pd.DataFrame(df_train_numerical_scaled, columns=numerical_columns), df_train_categorical], axis=1,)\n",
    "df_train_after_concat = pd.DataFrame(np.hstack([pd.DataFrame(df_train_numerical_scaled, columns=numerical_columns), df_train_categorical]))\n",
    "df_test_after_concat = pd.DataFrame(np.hstack([pd.DataFrame(df_test_numerical_scaled, columns=numerical_columns), df_test_categorical]))\n",
    "\n",
    "# df_test_after_concat = pd.concat([pd.DataFrame(df_test_numerical_scaled, columns=numerical_columns), df_test_categorical], axis=1)"
   ]
  },
  {
   "cell_type": "code",
   "execution_count": 126,
   "metadata": {},
   "outputs": [
    {
     "data": {
      "text/plain": [
       "(6308, 13)"
      ]
     },
     "execution_count": 126,
     "metadata": {},
     "output_type": "execute_result"
    }
   ],
   "source": [
    "df_train_after_concat.shape"
   ]
  },
  {
   "cell_type": "code",
   "execution_count": 127,
   "metadata": {},
   "outputs": [],
   "source": [
    "# lower_limit = df_train_after_concat[3].mean() - 3*df_train_after_concat[3].std()\n",
    "# upper_limit = df_train_after_concat[3].mean() + 3*df_train_after_concat[3].std()\n",
    "\n",
    "# df_train_after_concat = df_train_after_concat[(df_train_after_concat[3] > lower_limit) & (df_train_after_concat[3] < upper_limit)]"
   ]
  },
  {
   "cell_type": "code",
   "execution_count": 128,
   "metadata": {},
   "outputs": [
    {
     "data": {
      "text/plain": [
       "0     0\n",
       "1     0\n",
       "2     0\n",
       "3     0\n",
       "4     0\n",
       "5     0\n",
       "6     0\n",
       "7     0\n",
       "8     0\n",
       "9     0\n",
       "10    0\n",
       "11    0\n",
       "12    0\n",
       "dtype: int64"
      ]
     },
     "execution_count": 128,
     "metadata": {},
     "output_type": "execute_result"
    }
   ],
   "source": [
    "df_train_after_concat.isnull().sum()"
   ]
  },
  {
   "cell_type": "code",
   "execution_count": 129,
   "metadata": {},
   "outputs": [
    {
     "name": "stdout",
     "output_type": "stream",
     "text": [
      "(6308, 13) (6308,)\n"
     ]
    }
   ],
   "source": [
    "# X = df_train.drop(['Cost'], axis=1)\n",
    "# y = df_train['Cost']\n",
    "# print(X.shape, y.shape)\n",
    "\n",
    "X = df_train_after_concat\n",
    "y = df_train['Cost']\n",
    "print(X.shape, y.shape)"
   ]
  },
  {
   "cell_type": "code",
   "execution_count": 130,
   "metadata": {},
   "outputs": [
    {
     "name": "stdout",
     "output_type": "stream",
     "text": [
      "(5046, 13) (5046,) (1262, 13) (1262,)\n"
     ]
    }
   ],
   "source": [
    "from sklearn.model_selection import train_test_split\n",
    "X_train, X_test, y_train, y_test = train_test_split(X, y, test_size=0.2, random_state=32)\n",
    "print(X_train.shape, y_train.shape, X_test.shape, y_test.shape)"
   ]
  },
  {
   "cell_type": "code",
   "execution_count": 131,
   "metadata": {},
   "outputs": [
    {
     "data": {
      "text/plain": [
       "(3500, 13)"
      ]
     },
     "execution_count": 131,
     "metadata": {},
     "output_type": "execute_result"
    }
   ],
   "source": [
    "df_test.shape"
   ]
  },
  {
   "cell_type": "markdown",
   "metadata": {},
   "source": [
    "## Linear Regression"
   ]
  },
  {
   "cell_type": "code",
   "execution_count": 132,
   "metadata": {},
   "outputs": [],
   "source": [
    "from sklearn.linear_model import LinearRegression\n",
    "model = LinearRegression()\n",
    "model = model.fit(X_train, y_train)"
   ]
  },
  {
   "cell_type": "code",
   "execution_count": 133,
   "metadata": {},
   "outputs": [
    {
     "name": "stdout",
     "output_type": "stream",
     "text": [
      "[ 3216.0668262   -409.76728601  -185.69202986 ...  1859.46286026\n",
      " 12551.84343102 41901.12497012]\n"
     ]
    }
   ],
   "source": [
    "y_pred = model.predict(X_test)\n",
    "print(y_pred)"
   ]
  },
  {
   "cell_type": "code",
   "execution_count": 134,
   "metadata": {},
   "outputs": [
    {
     "data": {
      "image/png": "[encoded data removed]",
      "text/plain": [
       "<Figure size 1080x576 with 1 Axes>"
      ]
     },
     "metadata": {
      "needs_background": "light"
     },
     "output_type": "display_data"
    }
   ],
   "source": [
    "plt.figure(figsize=(15,8))\n",
    "x_ax = range(len(X_test))\n",
    "plt.scatter(x_ax, y_test, s=5, color=\"blue\", label=\"original\")\n",
    "plt.plot(x_ax, y_pred, lw=0.8, color=\"red\", label=\"predicted\")\n",
    "plt.legend()\n",
    "plt.show()"
   ]
  },
  {
   "cell_type": "code",
   "execution_count": 135,
   "metadata": {},
   "outputs": [
    {
     "name": "stdout",
     "output_type": "stream",
     "text": [
      "0.13401908516187\n"
     ]
    }
   ],
   "source": [
    "from sklearn.metrics import r2_score\n",
    "r2 = r2_score(y_test, y_pred)\n",
    "print(r2)"
   ]
  },
  {
   "cell_type": "code",
   "execution_count": 136,
   "metadata": {},
   "outputs": [
    {
     "name": "stdout",
     "output_type": "stream",
     "text": [
      "[ 3829.28111437 -1444.96800491 55616.94876465 ...  4143.82308502\n",
      "  -858.16075374 -1132.57543448]\n"
     ]
    }
   ],
   "source": [
    "y_train_pred = model.predict(X_train)\n",
    "print(y_train_pred)"
   ]
  },
  {
   "cell_type": "code",
   "execution_count": 137,
   "metadata": {},
   "outputs": [
    {
     "name": "stdout",
     "output_type": "stream",
     "text": [
      "Mean Squared Error: 403457331.1483371\n",
      "Root Mean Squared Error: 20086.247313730284\n",
      "Mean Absolute Error: 4433.92821722966\n"
     ]
    }
   ],
   "source": [
    "from sklearn.metrics import mean_absolute_error, mean_squared_error\n",
    "print('Mean Squared Error:', mean_squared_error(y_train, y_train_pred)) \n",
    "print('Root Mean Squared Error:', np.sqrt(mean_squared_error(y_train, y_train_pred)))\n",
    "print('Mean Absolute Error:', mean_absolute_error(y_train, y_train_pred))"
   ]
  },
  {
   "cell_type": "code",
   "execution_count": 138,
   "metadata": {},
   "outputs": [
    {
     "name": "stdout",
     "output_type": "stream",
     "text": [
      "Mean Squared Error: 2360688437.3471994\n",
      "Root Mean Squared Error: 48586.9163185646\n",
      "Mean Absolute Error: 5598.968702186222\n"
     ]
    }
   ],
   "source": [
    "from sklearn.metrics import mean_absolute_error, mean_squared_error\n",
    "print('Mean Squared Error:', mean_squared_error(y_test, y_pred)) \n",
    "print('Root Mean Squared Error:', np.sqrt(mean_squared_error(y_test, y_pred)))\n",
    "print('Mean Absolute Error:', mean_absolute_error(y_test, y_pred))"
   ]
  },
  {
   "cell_type": "markdown",
   "metadata": {},
   "source": [
    "## XGB Regressor"
   ]
  },
  {
   "cell_type": "code",
   "execution_count": 139,
   "metadata": {},
   "outputs": [
    {
     "name": "stdout",
     "output_type": "stream",
     "text": [
      "[19:35:44] WARNING: src/objective/regression_obj.cu:152: reg:linear is now deprecated in favor of reg:squarederror.\n"
     ]
    },
    {
     "data": {
      "text/plain": [
       "XGBRegressor(base_score=0.5, booster='gbtree', colsample_bylevel=1,\n",
       "             colsample_bynode=1, colsample_bytree=1, gamma=0,\n",
       "             importance_type='gain', learning_rate=0.1, max_delta_step=0,\n",
       "             max_depth=3, min_child_weight=1, missing=None, n_estimators=100,\n",
       "             n_jobs=1, nthread=None, objective='reg:linear', random_state=0,\n",
       "             reg_alpha=0, reg_lambda=1, scale_pos_weight=1, seed=None,\n",
       "             silent=None, subsample=1, verbosity=1)"
      ]
     },
     "execution_count": 139,
     "metadata": {},
     "output_type": "execute_result"
    }
   ],
   "source": [
    "from xgboost import XGBRegressor\n",
    "xgb_reg = XGBRegressor()\n",
    "xgb_reg.fit(X_train, y_train, verbose=False)"
   ]
  },
  {
   "cell_type": "code",
   "execution_count": 140,
   "metadata": {},
   "outputs": [
    {
     "data": {
      "text/plain": [
       "7412.299275429273"
      ]
     },
     "execution_count": 140,
     "metadata": {},
     "output_type": "execute_result"
    }
   ],
   "source": [
    "from sklearn.metrics import mean_squared_error\n",
    "y_train_predicted = xgb_reg.predict(X_train)\n",
    "mse = mean_squared_error(y_train_predicted, y_train)\n",
    "rmse = np.sqrt(mse)\n",
    "rmse "
   ]
  },
  {
   "cell_type": "code",
   "execution_count": 141,
   "metadata": {},
   "outputs": [],
   "source": [
    "y_test_pred = xgb_reg.predict(X_test)"
   ]
  },
  {
   "cell_type": "code",
   "execution_count": 142,
   "metadata": {},
   "outputs": [
    {
     "name": "stdout",
     "output_type": "stream",
     "text": [
      "Mean Squared Error: 2708380212.53415\n",
      "Root Mean Squared Error: 52042.10038549703\n",
      "Mean Absolute Error: 3499.6059092719656\n"
     ]
    }
   ],
   "source": [
    "from sklearn.metrics import mean_absolute_error, mean_squared_error\n",
    "print('Mean Squared Error:', mean_squared_error(y_test, y_test_pred)) \n",
    "print('Root Mean Squared Error:', np.sqrt(mean_squared_error(y_test, y_test_pred)))\n",
    "print('Mean Absolute Error:', mean_absolute_error(y_test, y_test_pred))"
   ]
  },
  {
   "cell_type": "code",
   "execution_count": null,
   "metadata": {},
   "outputs": [],
   "source": []
  },
  {
   "cell_type": "code",
   "execution_count": 40,
   "metadata": {},
   "outputs": [],
   "source": [
    "#scaling the numerical value and concating the categorical feature"
   ]
  },
  {
   "cell_type": "code",
   "execution_count": null,
   "metadata": {},
   "outputs": [],
   "source": []
  },
  {
   "cell_type": "code",
   "execution_count": null,
   "metadata": {},
   "outputs": [],
   "source": []
  },
  {
   "cell_type": "code",
   "execution_count": null,
   "metadata": {},
   "outputs": [],
   "source": []
  },
  {
   "cell_type": "code",
   "execution_count": null,
   "metadata": {},
   "outputs": [],
   "source": []
  },
  {
   "cell_type": "code",
   "execution_count": null,
   "metadata": {},
   "outputs": [],
   "source": []
  },
  {
   "cell_type": "code",
   "execution_count": null,
   "metadata": {},
   "outputs": [],
   "source": []
  },
  {
   "cell_type": "code",
   "execution_count": null,
   "metadata": {},
   "outputs": [],
   "source": []
  },
  {
   "cell_type": "code",
   "execution_count": null,
   "metadata": {},
   "outputs": [],
   "source": []
  },
  {
   "cell_type": "code",
   "execution_count": null,
   "metadata": {},
   "outputs": [],
   "source": []
  },
  {
   "cell_type": "code",
   "execution_count": null,
   "metadata": {},
   "outputs": [],
   "source": []
  },
  {
   "cell_type": "code",
   "execution_count": null,
   "metadata": {},
   "outputs": [],
   "source": []
  },
  {
   "cell_type": "code",
   "execution_count": null,
   "metadata": {},
   "outputs": [],
   "source": []
  },
  {
   "cell_type": "code",
   "execution_count": null,
   "metadata": {},
   "outputs": [],
   "source": []
  },
  {
   "cell_type": "code",
   "execution_count": null,
   "metadata": {},
   "outputs": [],
   "source": []
  },
  {
   "cell_type": "code",
   "execution_count": null,
   "metadata": {},
   "outputs": [],
   "source": []
  },
  {
   "cell_type": "code",
   "execution_count": null,
   "metadata": {},
   "outputs": [],
   "source": []
  },
  {
   "cell_type": "code",
   "execution_count": null,
   "metadata": {},
   "outputs": [],
   "source": []
  },
  {
   "cell_type": "code",
   "execution_count": null,
   "metadata": {},
   "outputs": [],
   "source": []
  },
  {
   "cell_type": "code",
   "execution_count": null,
   "metadata": {},
   "outputs": [],
   "source": []
  },
  {
   "cell_type": "code",
   "execution_count": null,
   "metadata": {},
   "outputs": [],
   "source": []
  },
  {
   "cell_type": "code",
   "execution_count": null,
   "metadata": {},
   "outputs": [],
   "source": []
  },
  {
   "cell_type": "code",
   "execution_count": null,
   "metadata": {},
   "outputs": [],
   "source": []
  }
 ],
 "metadata": {
  "kernelspec": {
   "display_name": "Python 3",
   "language": "python",
   "name": "python3"
  },
  "language_info": {
   "codemirror_mode": {
    "name": "ipython",
    "version": 3
   },
   "file_extension": ".py",
   "mimetype": "text/x-python",
   "name": "python",
   "nbconvert_exporter": "python",
   "pygments_lexer": "ipython3",
   "version": "3.6.10"
  }
 },
 "nbformat": 4,
 "nbformat_minor": 4
}
